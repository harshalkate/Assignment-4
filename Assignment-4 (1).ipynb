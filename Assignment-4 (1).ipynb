{
 "cells": [
  {
   "cell_type": "markdown",
   "id": "c1d250dc-5823-473d-ae90-a73f75bfa0a5",
   "metadata": {},
   "source": [
    "1. What exactly is []?\n",
    "Ans: Index brackets they are used to define \"list laterals\" and this allows you to declare the list and the content in it."
   ]
  },
  {
   "cell_type": "markdown",
   "id": "96991cb4-3e83-4090-b81d-7a46b4719322",
   "metadata": {},
   "source": [
    "2. In a list of values stored in a variable called spam, how would you assign the value 'hello' as the third value? (Assume [2, 4, 6, 8, 10] are in spam.)\n",
    "Let's pretend the spam includes the list ['a', 'b', 'c', 'd'] for the next three queries."
   ]
  },
  {
   "cell_type": "code",
   "execution_count": 6,
   "id": "534e8f7d-53b8-46b3-a998-041e786eb3e3",
   "metadata": {},
   "outputs": [
    {
     "name": "stdout",
     "output_type": "stream",
     "text": [
      "[2, 4, ['hello'], 8, 10]\n"
     ]
    }
   ],
   "source": [
    "#ANS:question no.2\n",
    "#created lists name spam \n",
    "spam=[2, 4, 6, 8, 10]\n",
    "spam[2] = [\"hello\"]#assign the hello to the index(2)\n",
    "#printing the output\n",
    "print(spam)"
   ]
  },
  {
   "cell_type": "code",
   "execution_count": 12,
   "id": "cb16f858-a6a4-4ce8-941d-3f29535c200c",
   "metadata": {},
   "outputs": [
    {
     "name": "stdout",
     "output_type": "stream",
     "text": [
      "['a', 'b', 'c', ['hello']]\n"
     ]
    }
   ],
   "source": [
    "spam=['a', 'b', 'c', 'd']\n",
    "spam[3]=[\"hello\"]\n",
    "print(spam)"
   ]
  },
  {
   "cell_type": "markdown",
   "id": "2df63fa3-e8ad-4663-bc83-70ff07485d9a",
   "metadata": {},
   "source": [
    "3. What is the value of spam[int(int('3' * 2) / 11)]?"
   ]
  },
  {
   "cell_type": "code",
   "execution_count": 13,
   "id": "47908735-b411-4955-ae27-46156bdf8dfb",
   "metadata": {},
   "outputs": [
    {
     "data": {
      "text/plain": [
       "['hello']"
      ]
     },
     "execution_count": 13,
     "metadata": {},
     "output_type": "execute_result"
    }
   ],
   "source": [
    "spam[int(int('3' * 2) / 11)]"
   ]
  },
  {
   "cell_type": "markdown",
   "id": "ae519997-5050-4eb2-a2fd-15dd931c84e0",
   "metadata": {},
   "source": [
    "4. What is the value of spam[-1]?\n",
    "Ans: 'd'"
   ]
  },
  {
   "cell_type": "markdown",
   "id": "6d81937e-cc15-4922-890f-704747baad0e",
   "metadata": {},
   "source": [
    "5. What is the value of spam[:2]?\n",
    "Let's pretend bacon has the list [3.14, 'cat,' 11, 'cat,' True] for the next three questions.\n",
    "Ans:['a','b']"
   ]
  },
  {
   "cell_type": "code",
   "execution_count": 26,
   "id": "44d88f3f-8b3f-4408-9707-700d707d6463",
   "metadata": {},
   "outputs": [],
   "source": [
    "#Let's pretend bacon has the list [3.14, 'cat,' 11, 'cat,' True] for the next three questions.\n",
    "list=[3.14, 'cat', 11, 'cat', True]"
   ]
  },
  {
   "cell_type": "markdown",
   "id": "9c962fc4-31da-48a4-8ae0-9772b2ed3c19",
   "metadata": {},
   "source": [
    "6. What is the value of bacon.index('cat')?\n",
    "Ans: index is 1"
   ]
  },
  {
   "cell_type": "markdown",
   "id": "eb28ca52-009d-4f80-a9a3-0f34771e29d3",
   "metadata": {},
   "source": [
    "7. How does bacon.append(99) change the look of the list value in bacon?"
   ]
  },
  {
   "cell_type": "code",
   "execution_count": 27,
   "id": "f483930e-16e1-4ddc-874c-b97325f8fef3",
   "metadata": {},
   "outputs": [
    {
     "name": "stdout",
     "output_type": "stream",
     "text": [
      "[3.14, 'cat', 11, 'cat', True, 99]\n"
     ]
    }
   ],
   "source": [
    "#Ans(7)\n",
    "bacon = [3.14, 'cat', 11, 'cat', True] # Assuming bacon is already defined\n",
    "bacon.append(99)\n",
    "print(bacon) # print the ouput"
   ]
  },
  {
   "cell_type": "markdown",
   "id": "aec10954-a17c-43cf-9ef4-a2204d092d18",
   "metadata": {},
   "source": [
    "8. How does bacon.remove('cat') change the look of the list in bacon?"
   ]
  },
  {
   "cell_type": "code",
   "execution_count": 28,
   "id": "ed63ece0-a262-433b-b40b-e4539b077d9a",
   "metadata": {},
   "outputs": [
    {
     "name": "stdout",
     "output_type": "stream",
     "text": [
      "[3.14, 11, 'cat', True]\n"
     ]
    }
   ],
   "source": [
    "#Ans(8)\n",
    "bacon = [3.14, 'cat', 11, 'cat', True] # Assuming bacon is already defined\n",
    "bacon.remove('cat')\n",
    "print(bacon) # printe the ouput"
   ]
  },
  {
   "cell_type": "markdown",
   "id": "4755b345-bbd6-4dd0-a0d9-b3ee611fdd9c",
   "metadata": {},
   "source": [
    "9. What are the list concatenation and list replication operators?\n",
    "Ans:In python programming, operator for list concatenation is +, and for list replication *."
   ]
  },
  {
   "cell_type": "markdown",
   "id": "d99ba845-4ad9-4d88-85eb-a47968fdd854",
   "metadata": {},
   "source": [
    "10. What is difference between the list methods append() and insert()?\n",
    "The difference between the two methods is that . append() adds an item to the end of a list, whereas insert() inserts the item in a specified position in the list."
   ]
  },
  {
   "cell_type": "markdown",
   "id": "45561299-89f3-4303-9d65-ec2e1167629b",
   "metadata": {},
   "source": [
    "11. What are the two methods for removing items from a list?\n",
    "Ans: remove() and pop() methods are the two methods."
   ]
  },
  {
   "cell_type": "markdown",
   "id": "3f88d1fd-6c0d-402a-b111-052a00429e5d",
   "metadata": {},
   "source": [
    "12. Describe how list values and string values are identical.\n",
    "Ans:The length of a sequence is the number of elements it contains and they both have a length similar. \n",
    "The length of a string is the number of characters it contains, and the length of a list is the number of items it contains in it and both can be indexed."
   ]
  },
  {
   "cell_type": "markdown",
   "id": "d3a3fe90-1e78-4b99-9241-d52b261e637c",
   "metadata": {},
   "source": [
    "13. What's the difference between tuples and lists?\n",
    "Ans:The difference between tuples and lists is that tuples are immutables and the lists are mutables so it can be change or updated it whenever we want as we required."
   ]
  },
  {
   "cell_type": "markdown",
   "id": "6bb432ce-39de-4e43-a41e-908065dec2a0",
   "metadata": {},
   "source": [
    "14. How do you type a tuple value that only contains the integer 42?\n",
    "Ans:my_tuple=(42)"
   ]
  },
  {
   "cell_type": "markdown",
   "id": "b081e4e7-2e8d-4211-9e96-2ae3f57256aa",
   "metadata": {},
   "source": [
    "15. How do you get a list value's tuple form? How do you get a tuple value's list form?"
   ]
  },
  {
   "cell_type": "code",
   "execution_count": 5,
   "id": "d99ec329-bd51-492d-a45d-e6f29e9b0f71",
   "metadata": {},
   "outputs": [
    {
     "name": "stdout",
     "output_type": "stream",
     "text": [
      "(1, 2, 3, 4, 5)\n"
     ]
    }
   ],
   "source": [
    "#Ans(15) list value's tuple form?\n",
    "list1=[1,2,3,4,5]\n",
    "tuple1=tuple(list1)\n",
    "print(tuple1)"
   ]
  },
  {
   "cell_type": "markdown",
   "id": "c57a41a2-f8c0-46c5-8abb-58df60b2a6d9",
   "metadata": {},
   "source": [
    "#Ans(15) tuple value's list form?\n",
    "my_tuple = (1, 2, 3, 4, 5)\n",
    "my_list = list(my_tuple)\n",
    "print(my_list)\n",
    "\n",
    "\n",
    "output= it gives \"typeError\" because tuples are immutable so it can't be modified. "
   ]
  },
  {
   "cell_type": "markdown",
   "id": "f1f226e3-bbba-4b6f-8a98-99196d8e9fb7",
   "metadata": {},
   "source": [
    "16. Variables that \"contain\" list values are not necessarily lists themselves. Instead, what do they contain?\n",
    "Ans: Actually they contain reference to a list."
   ]
  },
  {
   "cell_type": "markdown",
   "id": "bff788dc-a128-4dc4-b9c4-1444d29e6a79",
   "metadata": {},
   "source": [
    "17. How do you distinguish between copy.copy() and copy.deepcopy()?\n",
    "Ans: copy.copy():-A shallow copy constructs a new compound object and then (to the extent possible) inserts references into it to the objects found in the original.\n",
    "copy.deepcopy:-A deep copy constructs a new compound object and then, recursively, inserts copies into it of the objects found in the original."
   ]
  }
 ],
 "metadata": {
  "kernelspec": {
   "display_name": "Python 3 (ipykernel)",
   "language": "python",
   "name": "python3"
  },
  "language_info": {
   "codemirror_mode": {
    "name": "ipython",
    "version": 3
   },
   "file_extension": ".py",
   "mimetype": "text/x-python",
   "name": "python",
   "nbconvert_exporter": "python",
   "pygments_lexer": "ipython3",
   "version": "3.10.8"
  }
 },
 "nbformat": 4,
 "nbformat_minor": 5
}
